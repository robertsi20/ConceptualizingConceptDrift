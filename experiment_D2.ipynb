{
 "cells": [
  {
   "cell_type": "markdown",
   "id": "df26b383-c29f-4d62-9d7f-bb244cb5dc6c",
   "metadata": {},
   "source": [
    "Drift Compression Experiment - See paper Section 4.1 for more details\n",
    "\n",
    "\n",
    "Implementation outline for Experiment\n",
    "1. read in data\n",
    "2. embed data with pretrained model\n",
    "3. run NMF over embeddings and get the nmf representation of the input\n",
    "4. train the drift localizer(DL) on the nmf reps\n",
    "5. estimate global importance of drift localizer\n",
    "6. estimate local importance of each input\n",
    "7. run different h /tilde models over the local importances and compare to DL\n"
   ]
  },
  {
   "cell_type": "code",
   "execution_count": 1,
   "id": "2c11a254-fee3-4480-83b9-e711142f9fba",
   "metadata": {},
   "outputs": [
    {
     "name": "stderr",
     "output_type": "stream",
     "text": [
      "2024-11-26 13:16:36.113385: I tensorflow/core/util/port.cc:113] oneDNN custom operations are on. You may see slightly different numerical results due to floating-point round-off errors from different computation orders. To turn them off, set the environment variable `TF_ENABLE_ONEDNN_OPTS=0`.\n",
      "2024-11-26 13:16:36.145080: E external/local_xla/xla/stream_executor/cuda/cuda_dnn.cc:9261] Unable to register cuDNN factory: Attempting to register factory for plugin cuDNN when one has already been registered\n",
      "2024-11-26 13:16:36.145110: E external/local_xla/xla/stream_executor/cuda/cuda_fft.cc:607] Unable to register cuFFT factory: Attempting to register factory for plugin cuFFT when one has already been registered\n",
      "2024-11-26 13:16:36.146038: E external/local_xla/xla/stream_executor/cuda/cuda_blas.cc:1515] Unable to register cuBLAS factory: Attempting to register factory for plugin cuBLAS when one has already been registered\n",
      "2024-11-26 13:16:36.151519: I tensorflow/core/platform/cpu_feature_guard.cc:182] This TensorFlow binary is optimized to use available CPU instructions in performance-critical operations.\n",
      "To enable the following instructions: AVX2 AVX512F AVX512_VNNI FMA, in other operations, rebuild TensorFlow with the appropriate compiler flags.\n",
      "2024-11-26 13:16:36.815972: W tensorflow/compiler/tf2tensorrt/utils/py_utils.cc:38] TF-TRT Warning: Could not find TensorRT\n"
     ]
    },
    {
     "name": "stdout",
     "output_type": "stream",
     "text": [
      "torch.Size([2777, 3, 256, 256])\n"
     ]
    }
   ],
   "source": [
    "from datasets import load_dataset\n",
    "from PIL import Image\n",
    "from timm.data import resolve_data_config\n",
    "from timm.data.transforms_factory import create_transform\n",
    "from concept_helpers.DeepView_Craft import CraftTorchDV as Craft\n",
    "from concept_helpers.DeepView_Craft import CraftTorchSupervised as CraftS\n",
    "from concept_helpers.combined_crafts import CombinedCrafts\n",
    "\n",
    "import urllib.request\n",
    "import glob\n",
    "import torch\n",
    "import torch.nn as nn\n",
    "from torchvision import transforms\n",
    "import timm\n",
    "\n",
    "import numpy as np\n",
    "import matplotlib.pyplot as plt\n",
    "from sklearn.datasets import fetch_openml\n",
    "from scipy.sparse.linalg import eigs\n",
    "from sklearn.ensemble import  RandomForestClassifier\n",
    "\n",
    "import numpy as np\n",
    "import matplotlib.pyplot as plt\n",
    "\n",
    "from sklearn.decomposition import NMF\n",
    "from sklearn.metrics import accuracy_score\n",
    "from sklearn.datasets import fetch_openml\n",
    "from sklearn.model_selection import train_test_split\n",
    "\n",
    "import random\n",
    "\n",
    "from xplique.concepts.craft import BaseCraft, DisplayImportancesOrder, Factorization, Sensitivity\n",
    "from sklearn.decomposition import non_negative_factorization\n",
    "from experiment_helpers.helper_function import *\n",
    "from experiment_helpers.driftLocalizer import Localizer\n",
    "\n",
    "\n",
    "device = 'cuda' \n",
    "\n",
    "# loading any timm model\n",
    "model = timm.create_model('nf_resnet50.ra2_in1k', pretrained=True)\n",
    "model = model.to(device)\n",
    "\n",
    "# processing\n",
    "config = resolve_data_config({}, model=model)\n",
    "transform = create_transform(**config)\n",
    "to_pil = transforms.ToPILImage()\n",
    "\n",
    "# cut the model in twop arts (as explained in the paper)\n",
    "# first part is g(.) our 'input_to_latent' model, second part is h(.) our 'latent_to_logit' model\n",
    "g = nn.Sequential(*(list(model.children())[:4]))  # input to penultimate layer\n",
    "h = nn.Sequential(*(list(model.children())[4:]))  # penultimate layer to logits\n",
    "\n",
    "\n",
    "with urllib.request.urlopen('https://raw.githubusercontent.com/pytorch/hub/master/imagenet_classes.txt') as f:\n",
    "        imagenet_class_names = np.array(f.read().decode('utf-8').split('\\n'))\n",
    "\n",
    "def gen_images(filelist,folder_names,folder_name2class_id):\n",
    "        for f in filelist:\n",
    "            folder_name = f.split('/')[-2]\n",
    "            if folder_name in folder_names:\n",
    "                class_id = folder_name2class_id[folder_name]\n",
    "                im = Image.open(f)\n",
    "                if len(im.getbands()) == 3:\n",
    "                    yield np.array(im.resize((224, 224))), class_id\n",
    "\n",
    "idd_folder = 'path/to/subset/of/imagenet'\n",
    "\n",
    "\n",
    "idd_folder_names = os.listdir('path/to/subset/of/imagenet')\n",
    "idd_class_names = idd_folder_names\n",
    "\n",
    "idd_class_ids = [np.where(imagenet_class_names == class_name)[0][0] for class_name in idd_class_names]\n",
    "folder_name2class_id = dict(zip(idd_folder_names, idd_class_ids))\n",
    "filelist = glob.glob(f'{idd_folder}/*/*.jpg')\n",
    "\n",
    "\n",
    "images, labels = zip(*gen_images(filelist,idd_folder_names,folder_name2class_id))\n",
    "images, labels = np.array(images), np.array(labels)\n",
    "preprocessed_images = torch.stack([transform(to_pil(img)) for img in images], 0)\n",
    "print(preprocessed_images.shape)"
   ]
  },
  {
   "cell_type": "code",
   "execution_count": 3,
   "id": "927fcfe8-75d2-420f-9356-be388d5d8849",
   "metadata": {},
   "outputs": [
    {
     "name": "stdout",
     "output_type": "stream",
     "text": [
      "Fitting Unsupervised Craft....\n"
     ]
    },
    {
     "name": "stderr",
     "output_type": "stream",
     "text": [
      "/home/iroberts/miniconda3/envs/concept_drift/lib/python3.10/site-packages/sklearn/decomposition/_nmf.py:1759: ConvergenceWarning: Maximum number of iterations 200 reached. Increase it to improve convergence.\n",
      "  warnings.warn(\n"
     ]
    },
    {
     "name": "stdout",
     "output_type": "stream",
     "text": [
      "Fitting Unsupervised Craft....\n",
      "Fitting Craft....\n",
      "Fitting Random Forest classifier...\n",
      "Determine optimal parameters using cross validation\n",
      "low threshold: 0.35 Mean:0.5085714285714286 High threshold:0.7, No. Leaves:20\n",
      "Fitting complete.\n",
      "Run: 0\n",
      "Fitting Unsupervised Craft....\n"
     ]
    },
    {
     "name": "stderr",
     "output_type": "stream",
     "text": [
      "/home/iroberts/miniconda3/envs/concept_drift/lib/python3.10/site-packages/sklearn/decomposition/_nmf.py:1759: ConvergenceWarning: Maximum number of iterations 200 reached. Increase it to improve convergence.\n",
      "  warnings.warn(\n"
     ]
    },
    {
     "name": "stdout",
     "output_type": "stream",
     "text": [
      "Fitting Unsupervised Craft....\n"
     ]
    },
    {
     "name": "stderr",
     "output_type": "stream",
     "text": [
      "/home/iroberts/miniconda3/envs/concept_drift/lib/python3.10/site-packages/sklearn/decomposition/_nmf.py:1759: ConvergenceWarning: Maximum number of iterations 200 reached. Increase it to improve convergence.\n",
      "  warnings.warn(\n"
     ]
    },
    {
     "name": "stdout",
     "output_type": "stream",
     "text": [
      "Fitting Craft....\n",
      "Fitting Random Forest classifier...\n",
      "Determine optimal parameters using cross validation\n",
      "low threshold: 0.15 Mean:0.2857142857142857 High threshold:0.45, No. Leaves:20\n",
      "Fitting complete.\n",
      "Run: 1\n",
      "Fitting Unsupervised Craft....\n",
      "Fitting Unsupervised Craft....\n",
      "Fitting Craft....\n",
      "Fitting Random Forest classifier...\n",
      "Determine optimal parameters using cross validation\n",
      "low threshold: 0.1 Mean:0.2742857142857143 High threshold:0.45, No. Leaves:20\n",
      "Fitting complete.\n",
      "Run: 2\n",
      "Fitting Unsupervised Craft....\n"
     ]
    },
    {
     "name": "stderr",
     "output_type": "stream",
     "text": [
      "/home/iroberts/miniconda3/envs/concept_drift/lib/python3.10/site-packages/sklearn/decomposition/_nmf.py:1759: ConvergenceWarning: Maximum number of iterations 200 reached. Increase it to improve convergence.\n",
      "  warnings.warn(\n"
     ]
    },
    {
     "name": "stdout",
     "output_type": "stream",
     "text": [
      "Fitting Unsupervised Craft....\n"
     ]
    },
    {
     "name": "stderr",
     "output_type": "stream",
     "text": [
      "/home/iroberts/miniconda3/envs/concept_drift/lib/python3.10/site-packages/sklearn/decomposition/_nmf.py:1759: ConvergenceWarning: Maximum number of iterations 200 reached. Increase it to improve convergence.\n",
      "  warnings.warn(\n"
     ]
    },
    {
     "name": "stdout",
     "output_type": "stream",
     "text": [
      "Fitting Craft....\n",
      "Fitting Random Forest classifier...\n",
      "Determine optimal parameters using cross validation\n",
      "low threshold: 0.25 Mean:0.4085714285714286 High threshold:0.6, No. Leaves:20\n",
      "Fitting complete.\n",
      "Run: 3\n",
      "Fitting Unsupervised Craft....\n",
      "Fitting Unsupervised Craft....\n"
     ]
    },
    {
     "name": "stderr",
     "output_type": "stream",
     "text": [
      "/home/iroberts/miniconda3/envs/concept_drift/lib/python3.10/site-packages/sklearn/decomposition/_nmf.py:1759: ConvergenceWarning: Maximum number of iterations 200 reached. Increase it to improve convergence.\n",
      "  warnings.warn(\n"
     ]
    },
    {
     "name": "stdout",
     "output_type": "stream",
     "text": [
      "Fitting Craft....\n",
      "Fitting Random Forest classifier...\n",
      "Determine optimal parameters using cross validation\n",
      "low threshold: 0.2 Mean:0.3514285714285714 High threshold:0.55, No. Leaves:20\n",
      "Fitting complete.\n",
      "Run: 4\n",
      "Fitting Unsupervised Craft....\n",
      "Fitting Unsupervised Craft....\n"
     ]
    },
    {
     "name": "stderr",
     "output_type": "stream",
     "text": [
      "/home/iroberts/miniconda3/envs/concept_drift/lib/python3.10/site-packages/sklearn/decomposition/_nmf.py:1759: ConvergenceWarning: Maximum number of iterations 200 reached. Increase it to improve convergence.\n",
      "  warnings.warn(\n"
     ]
    },
    {
     "name": "stdout",
     "output_type": "stream",
     "text": [
      "Fitting Craft....\n",
      "Fitting Random Forest classifier...\n",
      "Determine optimal parameters using cross validation\n",
      "low threshold: 0.3 Mean:0.4714285714285714 High threshold:0.65, No. Leaves:20\n",
      "Fitting complete.\n",
      "Run: 5\n",
      "Fitting Unsupervised Craft....\n",
      "Fitting Unsupervised Craft....\n",
      "Fitting Craft....\n",
      "Fitting Random Forest classifier...\n",
      "Determine optimal parameters using cross validation\n",
      "low threshold: 0.25 Mean:0.43714285714285717 High threshold:0.6, No. Leaves:20\n",
      "Fitting complete.\n",
      "Run: 6\n",
      "Fitting Unsupervised Craft....\n"
     ]
    },
    {
     "name": "stderr",
     "output_type": "stream",
     "text": [
      "/home/iroberts/miniconda3/envs/concept_drift/lib/python3.10/site-packages/sklearn/decomposition/_nmf.py:1759: ConvergenceWarning: Maximum number of iterations 200 reached. Increase it to improve convergence.\n",
      "  warnings.warn(\n"
     ]
    },
    {
     "name": "stdout",
     "output_type": "stream",
     "text": [
      "Fitting Unsupervised Craft....\n",
      "Fitting Craft....\n",
      "Fitting Random Forest classifier...\n",
      "Determine optimal parameters using cross validation\n",
      "low threshold: 0.4 Mean:0.6028571428571429 High threshold:0.8, No. Leaves:20\n",
      "Fitting complete.\n",
      "Run: 7\n",
      "Fitting Unsupervised Craft....\n"
     ]
    },
    {
     "name": "stderr",
     "output_type": "stream",
     "text": [
      "/home/iroberts/miniconda3/envs/concept_drift/lib/python3.10/site-packages/sklearn/decomposition/_nmf.py:1759: ConvergenceWarning: Maximum number of iterations 200 reached. Increase it to improve convergence.\n",
      "  warnings.warn(\n"
     ]
    },
    {
     "name": "stdout",
     "output_type": "stream",
     "text": [
      "Fitting Unsupervised Craft....\n"
     ]
    },
    {
     "name": "stderr",
     "output_type": "stream",
     "text": [
      "/home/iroberts/miniconda3/envs/concept_drift/lib/python3.10/site-packages/sklearn/decomposition/_nmf.py:1759: ConvergenceWarning: Maximum number of iterations 200 reached. Increase it to improve convergence.\n",
      "  warnings.warn(\n"
     ]
    },
    {
     "name": "stdout",
     "output_type": "stream",
     "text": [
      "Fitting Craft....\n",
      "Fitting Random Forest classifier...\n",
      "Determine optimal parameters using cross validation\n",
      "low threshold: 0.35 Mean:0.5542857142857143 High threshold:0.75, No. Leaves:20\n",
      "Fitting complete.\n",
      "Run: 8\n",
      "Fitting Unsupervised Craft....\n",
      "Fitting Unsupervised Craft....\n"
     ]
    },
    {
     "name": "stderr",
     "output_type": "stream",
     "text": [
      "/home/iroberts/miniconda3/envs/concept_drift/lib/python3.10/site-packages/sklearn/decomposition/_nmf.py:1759: ConvergenceWarning: Maximum number of iterations 200 reached. Increase it to improve convergence.\n",
      "  warnings.warn(\n"
     ]
    },
    {
     "name": "stdout",
     "output_type": "stream",
     "text": [
      "Fitting Craft....\n",
      "Fitting Random Forest classifier...\n",
      "Determine optimal parameters using cross validation\n",
      "low threshold: 0.25 Mean:0.44 High threshold:0.6, No. Leaves:20\n",
      "Fitting complete.\n",
      "Run: 9\n",
      "Fitting Unsupervised Craft....\n"
     ]
    },
    {
     "name": "stderr",
     "output_type": "stream",
     "text": [
      "/home/iroberts/miniconda3/envs/concept_drift/lib/python3.10/site-packages/sklearn/decomposition/_nmf.py:1759: ConvergenceWarning: Maximum number of iterations 200 reached. Increase it to improve convergence.\n",
      "  warnings.warn(\n"
     ]
    },
    {
     "name": "stdout",
     "output_type": "stream",
     "text": [
      "Fitting Unsupervised Craft....\n",
      "Fitting Craft....\n",
      "Fitting Random Forest classifier...\n",
      "Determine optimal parameters using cross validation\n",
      "low threshold: 0.3 Mean:0.5028571428571429 High threshold:0.7, No. Leaves:20\n",
      "Fitting complete.\n",
      "Run: 10\n",
      "Fitting Unsupervised Craft....\n",
      "Fitting Unsupervised Craft....\n"
     ]
    },
    {
     "name": "stderr",
     "output_type": "stream",
     "text": [
      "/home/iroberts/miniconda3/envs/concept_drift/lib/python3.10/site-packages/sklearn/decomposition/_nmf.py:1759: ConvergenceWarning: Maximum number of iterations 200 reached. Increase it to improve convergence.\n",
      "  warnings.warn(\n"
     ]
    },
    {
     "name": "stdout",
     "output_type": "stream",
     "text": [
      "Fitting Craft....\n",
      "Fitting Random Forest classifier...\n",
      "Determine optimal parameters using cross validation\n",
      "low threshold: 0.2 Mean:0.3514285714285714 High threshold:0.55, No. Leaves:20\n",
      "Fitting complete.\n",
      "Run: 11\n",
      "Fitting Unsupervised Craft....\n",
      "Fitting Unsupervised Craft....\n",
      "Fitting Craft....\n",
      "Fitting Random Forest classifier...\n",
      "Determine optimal parameters using cross validation\n",
      "low threshold: 0.2 Mean:0.38571428571428573 High threshold:0.55, No. Leaves:20\n",
      "Fitting complete.\n",
      "Run: 12\n",
      "Fitting Unsupervised Craft....\n"
     ]
    },
    {
     "name": "stderr",
     "output_type": "stream",
     "text": [
      "/home/iroberts/miniconda3/envs/concept_drift/lib/python3.10/site-packages/sklearn/decomposition/_nmf.py:1759: ConvergenceWarning: Maximum number of iterations 200 reached. Increase it to improve convergence.\n",
      "  warnings.warn(\n"
     ]
    },
    {
     "name": "stdout",
     "output_type": "stream",
     "text": [
      "Fitting Unsupervised Craft....\n"
     ]
    },
    {
     "name": "stderr",
     "output_type": "stream",
     "text": [
      "/home/iroberts/miniconda3/envs/concept_drift/lib/python3.10/site-packages/sklearn/decomposition/_nmf.py:1759: ConvergenceWarning: Maximum number of iterations 200 reached. Increase it to improve convergence.\n",
      "  warnings.warn(\n"
     ]
    },
    {
     "name": "stdout",
     "output_type": "stream",
     "text": [
      "Fitting Craft....\n",
      "Fitting Random Forest classifier...\n",
      "Determine optimal parameters using cross validation\n",
      "low threshold: 0.35 Mean:0.5257142857142857 High threshold:0.7, No. Leaves:20\n",
      "Fitting complete.\n",
      "Run: 13\n",
      "Fitting Unsupervised Craft....\n"
     ]
    },
    {
     "name": "stderr",
     "output_type": "stream",
     "text": [
      "/home/iroberts/miniconda3/envs/concept_drift/lib/python3.10/site-packages/sklearn/decomposition/_nmf.py:1759: ConvergenceWarning: Maximum number of iterations 200 reached. Increase it to improve convergence.\n",
      "  warnings.warn(\n"
     ]
    },
    {
     "name": "stdout",
     "output_type": "stream",
     "text": [
      "Fitting Unsupervised Craft....\n",
      "Fitting Craft....\n",
      "Fitting Random Forest classifier...\n",
      "Determine optimal parameters using cross validation\n",
      "low threshold: 0.3 Mean:0.45714285714285713 High threshold:0.65, No. Leaves:20\n",
      "Fitting complete.\n",
      "Run: 14\n",
      "Fitting Unsupervised Craft....\n",
      "Fitting Unsupervised Craft....\n"
     ]
    },
    {
     "name": "stderr",
     "output_type": "stream",
     "text": [
      "/home/iroberts/miniconda3/envs/concept_drift/lib/python3.10/site-packages/sklearn/decomposition/_nmf.py:1759: ConvergenceWarning: Maximum number of iterations 200 reached. Increase it to improve convergence.\n",
      "  warnings.warn(\n"
     ]
    },
    {
     "name": "stdout",
     "output_type": "stream",
     "text": [
      "Fitting Craft....\n",
      "Fitting Random Forest classifier...\n",
      "Determine optimal parameters using cross validation\n",
      "low threshold: 0.25 Mean:0.44857142857142857 High threshold:0.65, No. Leaves:20\n",
      "Fitting complete.\n",
      "Run: 15\n",
      "Fitting Unsupervised Craft....\n",
      "Fitting Unsupervised Craft....\n"
     ]
    },
    {
     "name": "stderr",
     "output_type": "stream",
     "text": [
      "/home/iroberts/miniconda3/envs/concept_drift/lib/python3.10/site-packages/sklearn/decomposition/_nmf.py:1759: ConvergenceWarning: Maximum number of iterations 200 reached. Increase it to improve convergence.\n",
      "  warnings.warn(\n"
     ]
    },
    {
     "name": "stdout",
     "output_type": "stream",
     "text": [
      "Fitting Craft....\n",
      "Fitting Random Forest classifier...\n",
      "Determine optimal parameters using cross validation\n",
      "low threshold: 0.15 Mean:0.2885714285714286 High threshold:0.45, No. Leaves:20\n",
      "Fitting complete.\n",
      "Run: 16\n",
      "Fitting Unsupervised Craft....\n",
      "Fitting Unsupervised Craft....\n",
      "Fitting Craft....\n",
      "Fitting Random Forest classifier...\n",
      "Determine optimal parameters using cross validation\n",
      "low threshold: 0.2 Mean:0.37142857142857144 High threshold:0.55, No. Leaves:20\n",
      "Fitting complete.\n",
      "Run: 17\n",
      "Fitting Unsupervised Craft....\n",
      "Fitting Unsupervised Craft....\n",
      "Fitting Craft....\n",
      "Fitting Random Forest classifier...\n",
      "Determine optimal parameters using cross validation\n",
      "low threshold: 0.2 Mean:0.38 High threshold:0.55, No. Leaves:20\n",
      "Fitting complete.\n",
      "Run: 18\n",
      "Fitting Unsupervised Craft....\n",
      "Fitting Unsupervised Craft....\n"
     ]
    },
    {
     "name": "stderr",
     "output_type": "stream",
     "text": [
      "/home/iroberts/miniconda3/envs/concept_drift/lib/python3.10/site-packages/sklearn/decomposition/_nmf.py:1759: ConvergenceWarning: Maximum number of iterations 200 reached. Increase it to improve convergence.\n",
      "  warnings.warn(\n"
     ]
    },
    {
     "name": "stdout",
     "output_type": "stream",
     "text": [
      "Fitting Craft....\n",
      "Fitting Random Forest classifier...\n",
      "Determine optimal parameters using cross validation\n",
      "low threshold: 0.3 Mean:0.4857142857142857 High threshold:0.65, No. Leaves:20\n",
      "Fitting complete.\n",
      "Run: 19\n",
      "Fitting Unsupervised Craft....\n",
      "Fitting Unsupervised Craft....\n",
      "Fitting Craft....\n",
      "Fitting Random Forest classifier...\n",
      "Determine optimal parameters using cross validation\n",
      "low threshold: 0.2 Mean:0.3628571428571429 High threshold:0.55, No. Leaves:20\n",
      "Fitting complete.\n",
      "Run: 20\n",
      "Fitting Unsupervised Craft....\n"
     ]
    },
    {
     "name": "stderr",
     "output_type": "stream",
     "text": [
      "/home/iroberts/miniconda3/envs/concept_drift/lib/python3.10/site-packages/sklearn/decomposition/_nmf.py:1759: ConvergenceWarning: Maximum number of iterations 200 reached. Increase it to improve convergence.\n",
      "  warnings.warn(\n"
     ]
    },
    {
     "name": "stdout",
     "output_type": "stream",
     "text": [
      "Fitting Unsupervised Craft....\n",
      "Fitting Craft....\n",
      "Fitting Random Forest classifier...\n",
      "Determine optimal parameters using cross validation\n",
      "low threshold: 0.35 Mean:0.5171428571428571 High threshold:0.7, No. Leaves:20\n",
      "Fitting complete.\n",
      "Run: 21\n",
      "Fitting Unsupervised Craft....\n",
      "Fitting Unsupervised Craft....\n",
      "Fitting Craft....\n",
      "Fitting Random Forest classifier...\n",
      "Determine optimal parameters using cross validation\n",
      "low threshold: 0.25 Mean:0.4114285714285714 High threshold:0.6, No. Leaves:20\n",
      "Fitting complete.\n",
      "Run: 22\n",
      "Fitting Unsupervised Craft....\n"
     ]
    },
    {
     "name": "stderr",
     "output_type": "stream",
     "text": [
      "/home/iroberts/miniconda3/envs/concept_drift/lib/python3.10/site-packages/sklearn/decomposition/_nmf.py:1759: ConvergenceWarning: Maximum number of iterations 200 reached. Increase it to improve convergence.\n",
      "  warnings.warn(\n"
     ]
    },
    {
     "name": "stdout",
     "output_type": "stream",
     "text": [
      "Fitting Unsupervised Craft....\n"
     ]
    },
    {
     "name": "stderr",
     "output_type": "stream",
     "text": [
      "/home/iroberts/miniconda3/envs/concept_drift/lib/python3.10/site-packages/sklearn/decomposition/_nmf.py:1759: ConvergenceWarning: Maximum number of iterations 200 reached. Increase it to improve convergence.\n",
      "  warnings.warn(\n"
     ]
    },
    {
     "name": "stdout",
     "output_type": "stream",
     "text": [
      "Fitting Craft....\n",
      "Fitting Random Forest classifier...\n",
      "Determine optimal parameters using cross validation\n",
      "low threshold: 0.25 Mean:0.4542857142857143 High threshold:0.65, No. Leaves:20\n",
      "Fitting complete.\n",
      "Run: 23\n",
      "Fitting Unsupervised Craft....\n",
      "Fitting Unsupervised Craft....\n"
     ]
    },
    {
     "name": "stderr",
     "output_type": "stream",
     "text": [
      "/home/iroberts/miniconda3/envs/concept_drift/lib/python3.10/site-packages/sklearn/decomposition/_nmf.py:1759: ConvergenceWarning: Maximum number of iterations 200 reached. Increase it to improve convergence.\n",
      "  warnings.warn(\n"
     ]
    },
    {
     "name": "stdout",
     "output_type": "stream",
     "text": [
      "Fitting Craft....\n",
      "Fitting Random Forest classifier...\n",
      "Determine optimal parameters using cross validation\n",
      "low threshold: 0.55 Mean:0.7228571428571429 High threshold:0.9, No. Leaves:20\n",
      "Fitting complete.\n",
      "Run: 24\n",
      "Fitting Unsupervised Craft....\n"
     ]
    },
    {
     "name": "stderr",
     "output_type": "stream",
     "text": [
      "/home/iroberts/miniconda3/envs/concept_drift/lib/python3.10/site-packages/sklearn/decomposition/_nmf.py:1759: ConvergenceWarning: Maximum number of iterations 200 reached. Increase it to improve convergence.\n",
      "  warnings.warn(\n"
     ]
    },
    {
     "name": "stdout",
     "output_type": "stream",
     "text": [
      "Fitting Unsupervised Craft....\n",
      "Fitting Craft....\n",
      "Fitting Random Forest classifier...\n",
      "Determine optimal parameters using cross validation\n",
      "low threshold: 0.45 Mean:0.6228571428571429 High threshold:0.8, No. Leaves:20\n",
      "Fitting complete.\n",
      "Run: 25\n",
      "Fitting Unsupervised Craft....\n"
     ]
    },
    {
     "name": "stderr",
     "output_type": "stream",
     "text": [
      "/home/iroberts/miniconda3/envs/concept_drift/lib/python3.10/site-packages/sklearn/decomposition/_nmf.py:1759: ConvergenceWarning: Maximum number of iterations 200 reached. Increase it to improve convergence.\n",
      "  warnings.warn(\n"
     ]
    },
    {
     "name": "stdout",
     "output_type": "stream",
     "text": [
      "Fitting Unsupervised Craft....\n",
      "Fitting Craft....\n",
      "Fitting Random Forest classifier...\n",
      "Determine optimal parameters using cross validation\n",
      "low threshold: 0.2 Mean:0.4 High threshold:0.6, No. Leaves:20\n",
      "Fitting complete.\n",
      "Run: 26\n",
      "Fitting Unsupervised Craft....\n",
      "Fitting Unsupervised Craft....\n",
      "Fitting Craft....\n",
      "Fitting Random Forest classifier...\n",
      "Determine optimal parameters using cross validation\n",
      "low threshold: 0.2 Mean:0.3457142857142857 High threshold:0.5, No. Leaves:20\n",
      "Fitting complete.\n",
      "Run: 27\n",
      "Fitting Unsupervised Craft....\n",
      "Fitting Unsupervised Craft....\n",
      "Fitting Craft....\n",
      "Fitting Random Forest classifier...\n",
      "Determine optimal parameters using cross validation\n",
      "low threshold: 0.5 Mean:0.6942857142857143 High threshold:0.85, No. Leaves:20\n",
      "Fitting complete.\n",
      "Run: 28\n",
      "Fitting Unsupervised Craft....\n"
     ]
    },
    {
     "name": "stderr",
     "output_type": "stream",
     "text": [
      "/home/iroberts/miniconda3/envs/concept_drift/lib/python3.10/site-packages/sklearn/decomposition/_nmf.py:1759: ConvergenceWarning: Maximum number of iterations 200 reached. Increase it to improve convergence.\n",
      "  warnings.warn(\n"
     ]
    },
    {
     "name": "stdout",
     "output_type": "stream",
     "text": [
      "Fitting Unsupervised Craft....\n",
      "Fitting Craft....\n",
      "Fitting Random Forest classifier...\n",
      "Determine optimal parameters using cross validation\n",
      "low threshold: 0.2 Mean:0.3914285714285714 High threshold:0.55, No. Leaves:20\n",
      "Fitting complete.\n",
      "Run: 29\n",
      "Fitting Unsupervised Craft....\n",
      "Fitting Unsupervised Craft....\n"
     ]
    },
    {
     "name": "stderr",
     "output_type": "stream",
     "text": [
      "/home/iroberts/miniconda3/envs/concept_drift/lib/python3.10/site-packages/sklearn/decomposition/_nmf.py:1759: ConvergenceWarning: Maximum number of iterations 200 reached. Increase it to improve convergence.\n",
      "  warnings.warn(\n"
     ]
    },
    {
     "name": "stdout",
     "output_type": "stream",
     "text": [
      "Fitting Craft....\n",
      "Fitting Random Forest classifier...\n",
      "Determine optimal parameters using cross validation\n",
      "low threshold: 0.1 Mean:0.23714285714285716 High threshold:0.4, No. Leaves:20\n",
      "Fitting complete.\n",
      "Run: 30\n",
      "Fitting Unsupervised Craft....\n"
     ]
    },
    {
     "name": "stderr",
     "output_type": "stream",
     "text": [
      "/home/iroberts/miniconda3/envs/concept_drift/lib/python3.10/site-packages/sklearn/decomposition/_nmf.py:1759: ConvergenceWarning: Maximum number of iterations 200 reached. Increase it to improve convergence.\n",
      "  warnings.warn(\n"
     ]
    },
    {
     "name": "stdout",
     "output_type": "stream",
     "text": [
      "Fitting Unsupervised Craft....\n"
     ]
    },
    {
     "name": "stderr",
     "output_type": "stream",
     "text": [
      "/home/iroberts/miniconda3/envs/concept_drift/lib/python3.10/site-packages/sklearn/decomposition/_nmf.py:1759: ConvergenceWarning: Maximum number of iterations 200 reached. Increase it to improve convergence.\n",
      "  warnings.warn(\n"
     ]
    },
    {
     "name": "stdout",
     "output_type": "stream",
     "text": [
      "Fitting Craft....\n",
      "Fitting Random Forest classifier...\n",
      "Determine optimal parameters using cross validation\n",
      "low threshold: 0.25 Mean:0.44 High threshold:0.6, No. Leaves:20\n",
      "Fitting complete.\n",
      "Run: 31\n",
      "Fitting Unsupervised Craft....\n"
     ]
    },
    {
     "name": "stderr",
     "output_type": "stream",
     "text": [
      "/home/iroberts/miniconda3/envs/concept_drift/lib/python3.10/site-packages/sklearn/decomposition/_nmf.py:1759: ConvergenceWarning: Maximum number of iterations 200 reached. Increase it to improve convergence.\n",
      "  warnings.warn(\n"
     ]
    },
    {
     "name": "stdout",
     "output_type": "stream",
     "text": [
      "Fitting Unsupervised Craft....\n",
      "Fitting Craft....\n",
      "Fitting Random Forest classifier...\n",
      "Determine optimal parameters using cross validation\n",
      "low threshold: 0.25 Mean:0.4114285714285714 High threshold:0.6, No. Leaves:20\n",
      "Fitting complete.\n",
      "Run: 32\n",
      "Fitting Unsupervised Craft....\n"
     ]
    },
    {
     "name": "stderr",
     "output_type": "stream",
     "text": [
      "/home/iroberts/miniconda3/envs/concept_drift/lib/python3.10/site-packages/sklearn/decomposition/_nmf.py:1759: ConvergenceWarning: Maximum number of iterations 200 reached. Increase it to improve convergence.\n",
      "  warnings.warn(\n"
     ]
    },
    {
     "name": "stdout",
     "output_type": "stream",
     "text": [
      "Fitting Unsupervised Craft....\n"
     ]
    },
    {
     "name": "stderr",
     "output_type": "stream",
     "text": [
      "/home/iroberts/miniconda3/envs/concept_drift/lib/python3.10/site-packages/sklearn/decomposition/_nmf.py:1759: ConvergenceWarning: Maximum number of iterations 200 reached. Increase it to improve convergence.\n",
      "  warnings.warn(\n"
     ]
    },
    {
     "name": "stdout",
     "output_type": "stream",
     "text": [
      "Fitting Craft....\n",
      "Fitting Random Forest classifier...\n",
      "Determine optimal parameters using cross validation\n",
      "low threshold: 0.3 Mean:0.47714285714285715 High threshold:0.65, No. Leaves:20\n",
      "Fitting complete.\n",
      "Run: 33\n",
      "Fitting Unsupervised Craft....\n",
      "Fitting Unsupervised Craft....\n",
      "Fitting Craft....\n",
      "Fitting Random Forest classifier...\n",
      "Determine optimal parameters using cross validation\n",
      "low threshold: 0.55 Mean:0.7257142857142858 High threshold:0.9, No. Leaves:20\n",
      "Fitting complete.\n",
      "Run: 34\n",
      "Fitting Unsupervised Craft....\n"
     ]
    },
    {
     "name": "stderr",
     "output_type": "stream",
     "text": [
      "/home/iroberts/miniconda3/envs/concept_drift/lib/python3.10/site-packages/sklearn/decomposition/_nmf.py:1759: ConvergenceWarning: Maximum number of iterations 200 reached. Increase it to improve convergence.\n",
      "  warnings.warn(\n"
     ]
    },
    {
     "name": "stdout",
     "output_type": "stream",
     "text": [
      "Fitting Unsupervised Craft....\n"
     ]
    },
    {
     "name": "stderr",
     "output_type": "stream",
     "text": [
      "/home/iroberts/miniconda3/envs/concept_drift/lib/python3.10/site-packages/sklearn/decomposition/_nmf.py:1759: ConvergenceWarning: Maximum number of iterations 200 reached. Increase it to improve convergence.\n",
      "  warnings.warn(\n"
     ]
    },
    {
     "name": "stdout",
     "output_type": "stream",
     "text": [
      "Fitting Craft....\n",
      "Fitting Random Forest classifier...\n",
      "Determine optimal parameters using cross validation\n",
      "low threshold: 0.2 Mean:0.37142857142857144 High threshold:0.55, No. Leaves:20\n",
      "Fitting complete.\n",
      "Run: 35\n",
      "Fitting Unsupervised Craft....\n",
      "Fitting Unsupervised Craft....\n",
      "Fitting Craft....\n",
      "Fitting Random Forest classifier...\n",
      "Determine optimal parameters using cross validation\n",
      "low threshold: 0.2 Mean:0.3914285714285714 High threshold:0.55, No. Leaves:20\n",
      "Fitting complete.\n",
      "Run: 36\n",
      "Fitting Unsupervised Craft....\n",
      "Fitting Unsupervised Craft....\n",
      "Fitting Craft....\n",
      "Fitting Random Forest classifier...\n",
      "Determine optimal parameters using cross validation\n",
      "low threshold: 0.4 Mean:0.6 High threshold:0.8, No. Leaves:20\n",
      "Fitting complete.\n",
      "Run: 37\n",
      "Fitting Unsupervised Craft....\n",
      "Fitting Unsupervised Craft....\n",
      "Fitting Craft....\n",
      "Fitting Random Forest classifier...\n",
      "Determine optimal parameters using cross validation\n",
      "low threshold: 0.15 Mean:0.33714285714285713 High threshold:0.5, No. Leaves:20\n",
      "Fitting complete.\n",
      "Run: 38\n",
      "Fitting Unsupervised Craft....\n",
      "Fitting Unsupervised Craft....\n",
      "Fitting Craft....\n",
      "Fitting Random Forest classifier...\n",
      "Determine optimal parameters using cross validation\n",
      "low threshold: 0.2 Mean:0.38285714285714284 High threshold:0.55, No. Leaves:20\n",
      "Fitting complete.\n",
      "Run: 39\n",
      "Fitting Unsupervised Craft....\n"
     ]
    },
    {
     "name": "stderr",
     "output_type": "stream",
     "text": [
      "/home/iroberts/miniconda3/envs/concept_drift/lib/python3.10/site-packages/sklearn/decomposition/_nmf.py:1759: ConvergenceWarning: Maximum number of iterations 200 reached. Increase it to improve convergence.\n",
      "  warnings.warn(\n"
     ]
    },
    {
     "name": "stdout",
     "output_type": "stream",
     "text": [
      "Fitting Unsupervised Craft....\n",
      "Fitting Craft....\n",
      "Fitting Random Forest classifier...\n",
      "Determine optimal parameters using cross validation\n",
      "low threshold: 0.3 Mean:0.4685714285714286 High threshold:0.65, No. Leaves:20\n",
      "Fitting complete.\n",
      "Run: 40\n",
      "Fitting Unsupervised Craft....\n"
     ]
    },
    {
     "name": "stderr",
     "output_type": "stream",
     "text": [
      "/home/iroberts/miniconda3/envs/concept_drift/lib/python3.10/site-packages/sklearn/decomposition/_nmf.py:1759: ConvergenceWarning: Maximum number of iterations 200 reached. Increase it to improve convergence.\n",
      "  warnings.warn(\n"
     ]
    },
    {
     "name": "stdout",
     "output_type": "stream",
     "text": [
      "Fitting Unsupervised Craft....\n",
      "Fitting Craft....\n",
      "Fitting Random Forest classifier...\n",
      "Determine optimal parameters using cross validation\n",
      "low threshold: 0.05 Mean:0.19714285714285715 High threshold:0.35, No. Leaves:20\n",
      "Fitting complete.\n",
      "Run: 41\n",
      "Fitting Unsupervised Craft....\n",
      "Fitting Unsupervised Craft....\n"
     ]
    },
    {
     "name": "stderr",
     "output_type": "stream",
     "text": [
      "/home/iroberts/miniconda3/envs/concept_drift/lib/python3.10/site-packages/sklearn/decomposition/_nmf.py:1759: ConvergenceWarning: Maximum number of iterations 200 reached. Increase it to improve convergence.\n",
      "  warnings.warn(\n"
     ]
    },
    {
     "name": "stdout",
     "output_type": "stream",
     "text": [
      "Fitting Craft....\n",
      "Fitting Random Forest classifier...\n",
      "Determine optimal parameters using cross validation\n",
      "low threshold: 0.45 Mean:0.6342857142857142 High threshold:0.8, No. Leaves:20\n",
      "Fitting complete.\n",
      "Run: 42\n",
      "Fitting Unsupervised Craft....\n"
     ]
    },
    {
     "name": "stderr",
     "output_type": "stream",
     "text": [
      "/home/iroberts/miniconda3/envs/concept_drift/lib/python3.10/site-packages/sklearn/decomposition/_nmf.py:1759: ConvergenceWarning: Maximum number of iterations 200 reached. Increase it to improve convergence.\n",
      "  warnings.warn(\n"
     ]
    },
    {
     "name": "stdout",
     "output_type": "stream",
     "text": [
      "Fitting Unsupervised Craft....\n"
     ]
    },
    {
     "name": "stderr",
     "output_type": "stream",
     "text": [
      "/home/iroberts/miniconda3/envs/concept_drift/lib/python3.10/site-packages/sklearn/decomposition/_nmf.py:1759: ConvergenceWarning: Maximum number of iterations 200 reached. Increase it to improve convergence.\n",
      "  warnings.warn(\n"
     ]
    },
    {
     "name": "stdout",
     "output_type": "stream",
     "text": [
      "Fitting Craft....\n",
      "Fitting Random Forest classifier...\n",
      "Determine optimal parameters using cross validation\n",
      "low threshold: 0.4 Mean:0.5628571428571428 High threshold:0.75, No. Leaves:20\n",
      "Fitting complete.\n",
      "Run: 43\n",
      "Fitting Unsupervised Craft....\n",
      "Fitting Unsupervised Craft....\n"
     ]
    },
    {
     "name": "stderr",
     "output_type": "stream",
     "text": [
      "/home/iroberts/miniconda3/envs/concept_drift/lib/python3.10/site-packages/sklearn/decomposition/_nmf.py:1759: ConvergenceWarning: Maximum number of iterations 200 reached. Increase it to improve convergence.\n",
      "  warnings.warn(\n"
     ]
    },
    {
     "name": "stdout",
     "output_type": "stream",
     "text": [
      "Fitting Craft....\n",
      "Fitting Random Forest classifier...\n",
      "Determine optimal parameters using cross validation\n",
      "low threshold: 0.4 Mean:0.58 High threshold:0.75, No. Leaves:20\n",
      "Fitting complete.\n",
      "Run: 44\n",
      "Fitting Unsupervised Craft....\n",
      "Fitting Unsupervised Craft....\n",
      "Fitting Craft....\n",
      "Fitting Random Forest classifier...\n",
      "Determine optimal parameters using cross validation\n",
      "low threshold: 0.15 Mean:0.31142857142857144 High threshold:0.5, No. Leaves:20\n",
      "Fitting complete.\n",
      "Run: 45\n",
      "Fitting Unsupervised Craft....\n",
      "Fitting Unsupervised Craft....\n"
     ]
    },
    {
     "name": "stderr",
     "output_type": "stream",
     "text": [
      "/home/iroberts/miniconda3/envs/concept_drift/lib/python3.10/site-packages/sklearn/decomposition/_nmf.py:1759: ConvergenceWarning: Maximum number of iterations 200 reached. Increase it to improve convergence.\n",
      "  warnings.warn(\n"
     ]
    },
    {
     "name": "stdout",
     "output_type": "stream",
     "text": [
      "Fitting Craft....\n",
      "Fitting Random Forest classifier...\n",
      "Determine optimal parameters using cross validation\n",
      "low threshold: 0.2 Mean:0.4 High threshold:0.6, No. Leaves:20\n",
      "Fitting complete.\n",
      "Run: 46\n",
      "Fitting Unsupervised Craft....\n",
      "Fitting Unsupervised Craft....\n",
      "Fitting Craft....\n",
      "Fitting Random Forest classifier...\n",
      "Determine optimal parameters using cross validation\n",
      "low threshold: 0.45 Mean:0.62 High threshold:0.8, No. Leaves:20\n",
      "Fitting complete.\n",
      "Run: 47\n",
      "Fitting Unsupervised Craft....\n"
     ]
    },
    {
     "name": "stderr",
     "output_type": "stream",
     "text": [
      "/home/iroberts/miniconda3/envs/concept_drift/lib/python3.10/site-packages/sklearn/decomposition/_nmf.py:1759: ConvergenceWarning: Maximum number of iterations 200 reached. Increase it to improve convergence.\n",
      "  warnings.warn(\n"
     ]
    },
    {
     "name": "stdout",
     "output_type": "stream",
     "text": [
      "Fitting Unsupervised Craft....\n",
      "Fitting Craft....\n",
      "Fitting Random Forest classifier...\n",
      "Determine optimal parameters using cross validation\n",
      "low threshold: 0.35 Mean:0.5342857142857143 High threshold:0.7, No. Leaves:20\n",
      "Fitting complete.\n",
      "Run: 48\n",
      "Fitting Unsupervised Craft....\n",
      "Fitting Unsupervised Craft....\n"
     ]
    },
    {
     "name": "stderr",
     "output_type": "stream",
     "text": [
      "/home/iroberts/miniconda3/envs/concept_drift/lib/python3.10/site-packages/sklearn/decomposition/_nmf.py:1759: ConvergenceWarning: Maximum number of iterations 200 reached. Increase it to improve convergence.\n",
      "  warnings.warn(\n"
     ]
    },
    {
     "name": "stdout",
     "output_type": "stream",
     "text": [
      "Fitting Craft....\n",
      "Fitting Random Forest classifier...\n",
      "Determine optimal parameters using cross validation\n",
      "low threshold: 0.25 Mean:0.4342857142857143 High threshold:0.6, No. Leaves:20\n",
      "Fitting complete.\n",
      "Run: 49\n"
     ]
    }
   ],
   "source": [
    "import random\n",
    "\n",
    "\n",
    "label_maps = []\n",
    "drift_ratios = []\n",
    "drift_localizer = []\n",
    "drift_comparison = []\n",
    "drift_forest = []\n",
    "\n",
    "\n",
    "one_local_one_global = []\n",
    "one_local = []\n",
    "two_local = []\n",
    "three_local = []\n",
    "one_global = []\n",
    "two_global = []\n",
    "three_global = []\n",
    "\n",
    "one_local_one_global_preds = []\n",
    "one_local_preds = []\n",
    "two_local_preds = []\n",
    "three_local_preds = []\n",
    "one_global_preds = []\n",
    "two_global_preds = []\n",
    "three_global_preds = []\n",
    "\n",
    "one_local_one_global_l = []\n",
    "one_local_l = []\n",
    "two_local_l = []\n",
    "three_local_l = []\n",
    "one_global_l = []\n",
    "two_global_l = []\n",
    "three_global_l = []\n",
    "\n",
    "one_local_one_global_preds_l = []\n",
    "one_local_preds_l = []\n",
    "two_local_preds_l = []\n",
    "three_local_preds_l = []\n",
    "one_global_preds_l = []\n",
    "two_global_preds_l = []\n",
    "three_global_preds_l = []\n",
    "\n",
    "one_local_l_probs = []\n",
    "two_local_l_probs = []\n",
    "three_local_l_probs = []\n",
    "one_local_preds_l_probs = []\n",
    "two_local_preds_l_probs = []\n",
    "three_local_preds_l_probs = []\n",
    "\n",
    "reconstructed_single_concepts = []\n",
    "reconstructed_single_concepts_preds = []\n",
    "reconstructed_2_concepts = []\n",
    "reconstructed_2_concepts_preds = []\n",
    "reconstructed_3_concepts = []\n",
    "reconstructed_3_concepts_preds = []\n",
    "reconstructed_all_concepts = []\n",
    "reconstructed_all_concepts_preds = []\n",
    "\n",
    "\n",
    "for j in range(50):\n",
    "\n",
    "    sample_ids = np.random.choice(len(preprocessed_images),500, False)\n",
    "    \n",
    "    sample_images = preprocessed_images[sample_ids]\n",
    "    \n",
    "    \n",
    "    # Map each digit to a label indicating whether it occurs before or after the change point, or both, or neither\n",
    "    #  0 - never, 1 - before, 2 - after, 3 - both\n",
    "    \n",
    "\n",
    "    # Initialize the label_map keys\n",
    "    keys = idd_class_ids\n",
    "    \n",
    "    # Shuffle the keys for more randomness\n",
    "    random.shuffle(keys)\n",
    "    \n",
    "    # Assign at least one of each label (0, 1, 2)\n",
    "    initial_labels = [0, 1, 2]\n",
    "    random.shuffle(initial_labels)\n",
    "    \n",
    "    # Ensure that the first three keys have 0, 1, and 2 respectively\n",
    "    label_map = {keys[i]: initial_labels[i] for i in range(3)}\n",
    "    \n",
    "    # Randomly assign labels for the remaining keys\n",
    "    for i in range(3, len(keys)):\n",
    "        label_map[keys[i]] = random.randint(0, 2)\n",
    "    \n",
    "    label_maps.append(label_map)\n",
    "    \n",
    "    labels_mapped = np.array([label_map[class_id] for class_id in labels])\n",
    "    \n",
    "    drift_labels = labels_mapped[sample_ids]\n",
    "    \n",
    "    # Randomly assign labels of 1 or 2 to samples with label 3\n",
    "    #  (i.e., digits that occur both before and after the change point)\n",
    "    label_2_idx = np.where(drift_labels == 2)[0]\n",
    "    y_mixed = drift_labels.copy()\n",
    "    y_mixed[label_2_idx] = np.random.choice([0, 1], size=len(label_2_idx))\n",
    "    \n",
    "    sample_labels = y_mixed\n",
    "\n",
    "    drift_ratios.append({\"BD\": len(np.where(drift_labels == 0)[0]),\n",
    "                         \"AD\": len(np.where(drift_labels == 1)[0]),\n",
    "                         \"Both\": len(np.where(drift_labels == 2)[0])})\n",
    "    \n",
    "    full_size = 256\n",
    "    patch_size= 100\n",
    "    \n",
    "    \n",
    "    #Supervised CRAFT Training\n",
    "    h_craftdv = CraftS(input_to_latent_model=g,\n",
    "                        latent_to_logit_model=h,\n",
    "                        number_of_concepts=5,\n",
    "                        inputs=sample_images,\n",
    "                        labels=sample_labels,\n",
    "                        batch_size=64,\n",
    "                        patch_size=full_size,\n",
    "                        device=device)\n",
    "    \n",
    "    patches, patch_act, train_labels = h_craftdv._extract_patches(sample_images, sample_labels )\n",
    "\n",
    "    bd_indices = np.where(sample_labels != 1)[0]\n",
    "    ad_indices = np.where(sample_labels != 0)[0]\n",
    "\n",
    "    bd_fit = Craft(input_to_latent_model=g,\n",
    "                    latent_to_logit_model=h,\n",
    "                    number_of_concepts=10,\n",
    "                    # labels=h_y,\n",
    "                    patch_size=patch_size,\n",
    "                    batch_size=64,\n",
    "                    device=device)\n",
    "    print(\"Fitting Unsupervised Craft....\")\n",
    "    bd_crops, bd_crops_u, bd_w = bd_fit.fit(sample_images[bd_indices])\n",
    "    \n",
    "    \n",
    "    ad_fit = Craft(input_to_latent_model=g,\n",
    "                        latent_to_logit_model=h,\n",
    "                        number_of_concepts=10,\n",
    "                        # labels=h_y,\n",
    "                        patch_size=patch_size,\n",
    "                        batch_size=64,\n",
    "                        device=device)\n",
    "    print(\"Fitting Unsupervised Craft....\")\n",
    "    ad_crops, ad_crops_u, ad_w = ad_fit.fit(sample_images[ad_indices])\n",
    "\n",
    "    drift_basis = np.vstack([bd_w, ad_w])\n",
    "\n",
    "    drift_craft = CombinedCrafts(input_to_latent_model=g,\n",
    "                    latent_to_logit_model=h,\n",
    "                    number_of_concepts=len(drift_basis),\n",
    "                    inputs=sample_images,\n",
    "                    labels=sample_labels,\n",
    "                    basis = drift_basis,\n",
    "                    batch_size=64,\n",
    "                    patch_size=patch_size,\n",
    "                    device=device)\n",
    "    print(\"Fitting Craft....\")\n",
    "    drift_craft.transform_all()\n",
    "\n",
    "    \n",
    "    X_clean = patch_act\n",
    "    y_clean = train_labels\n",
    "\n",
    "    # Initialize a random forest model with max_leaf_nodes=150\n",
    "    localizer_model = Localizer()\n",
    "    \n",
    "\n",
    "    # Perform the train-test split on X_clean and sample_labels\n",
    "    X_train_clean, X_test_clean, y_train, y_test = \\\n",
    "        train_test_split(X_clean, y_clean, train_size=0.7, random_state=42)\n",
    "\n",
    "    # Fit the model to the mixed set (group 3 is randomly assigned to 1 or 2)\n",
    "    print('Fitting Random Forest classifier...')\n",
    "    localizer_model.fit(X_train_clean, y_train);\n",
    "    print('Fitting complete.')\n",
    "\n",
    "    localizer_bin_preds = localizer_model.l_predict(X_test_clean)\n",
    "    drift_localizer.append(accuracy_score(localizer_bin_preds, y_test))\n",
    "\n",
    "    drift_imp = np.round(estimate_importance_l(localizer_model, drift_craft, drift_basis, X_train_clean),3)\n",
    "\n",
    "\n",
    "    \n",
    "    # y_preds_l, _ = compute_predictions(localizer_model,X_test_clean)\n",
    "    image_drift_imp_l = [estimate_importance_helper_l(drift_craft,localizer_model,drift_basis,\n",
    "                                                  image,class_of_interest=localizer_bin_preds[i]) \n",
    "                               for i,image in enumerate(X_test_clean)]\n",
    "\n",
    "    \n",
    "    \n",
    "    one_local_one_global_l.append(local_one_imp_concept_globally_l(drift_craft,image_drift_imp_l,y_test))\n",
    "    one_local_l.append(local_imp_concepts_globally_l(drift_craft,image_drift_imp_l,num=1,labels=y_test))\n",
    "    two_local_l.append(local_imp_concepts_globally_l(drift_craft,image_drift_imp_l,num=2,labels=y_test))\n",
    "    three_local_l.append(local_imp_concepts_globally_l(drift_craft,image_drift_imp_l,num=3,labels=y_test))\n",
    "    # all_local_l.append(local_imp_concepts_globally_l(drift_craft,image_drift_imp_l,num=20,labels=y_test))\n",
    "\n",
    "    one_global_l.append(global_imp_concepts_locally_l(drift_craft,image_drift_imp_l,num=1,labels=y_test))\n",
    "    two_global_l.append(global_imp_concepts_locally_l(drift_craft,image_drift_imp_l,num=2,labels=y_test))\n",
    "    three_global_l.append(global_imp_concepts_locally_l(drift_craft,image_drift_imp_l,num=3,labels=y_test))\n",
    "    # all_global_l.append(global_imp_concepts_locally_l(drift_craft,image_drift_imp_l,num=20,labels=y_test))\n",
    "\n",
    "    # all_local_l.append(local_imp_concepts_globally_l(drift_craft,image_drift_imp_l,num=20,labels=y_test))\n",
    "\n",
    "    \n",
    "    one_local_one_global_preds_l.append(local_one_imp_concept_globally_l(drift_craft,image_drift_imp_l,localizer_bin_preds))\n",
    "    one_local_preds_l.append(local_imp_concepts_globally_l(drift_craft,image_drift_imp_l,num=1,labels=localizer_bin_preds))\n",
    "    two_local_preds_l.append(local_imp_concepts_globally_l(drift_craft,image_drift_imp_l,num=2,labels=localizer_bin_preds))\n",
    "    three_local_preds_l.append(local_imp_concepts_globally_l(drift_craft,image_drift_imp_l,num=3,labels=localizer_bin_preds))\n",
    "\n",
    "\n",
    "    # all_local_preds_l.append(local_imp_concepts_globally_l(drift_craft,image_drift_imp_l,num=20,labels=localizer_bin_preds))\n",
    "\n",
    "    one_global_preds_l.append(global_imp_concepts_locally_l(drift_craft,image_drift_imp_l,num=1,labels=localizer_bin_preds))\n",
    "    two_global_preds_l.append(global_imp_concepts_locally_l(drift_craft,image_drift_imp_l,num=2,labels=localizer_bin_preds))\n",
    "    three_global_preds_l.append(global_imp_concepts_locally_l(drift_craft,image_drift_imp_l,num=3,labels=localizer_bin_preds))\n",
    "    # all_global_preds_l.append(global_imp_concepts_locally_l(drift_craft,image_drift_imp_l,num=20,labels=localizer_bin_preds))\n",
    "\n",
    "\n",
    "    localizer_bin_train_preds = localizer_model.l_predict(X_train_clean)\n",
    "    image_drift_imp_l_train = [estimate_importance_helper_l(drift_craft,localizer_model,drift_basis,\n",
    "                                                  image,class_of_interest=localizer_bin_train_preds[i]) \n",
    "                               for i,image in enumerate(X_train_clean)]\n",
    "    concept_dist = concept_counter(image_drift_imp_l_train,localizer_bin_train_preds)\n",
    "\n",
    "    one_local_l_probs.append(local_imp_concepts_probability(concept_dist,image_drift_imp_l,num=1,labels=y_test))\n",
    "    two_local_l_probs.append(local_imp_concepts_probability(concept_dist,image_drift_imp_l,num=2,labels=y_test))\n",
    "    three_local_l_probs.append(local_imp_concepts_probability(concept_dist,image_drift_imp_l,num=3,labels=y_test))\n",
    "\n",
    "    one_local_preds_l_probs.append(local_imp_concepts_probability(concept_dist,image_drift_imp_l,num=1,labels=localizer_bin_preds))\n",
    "    two_local_preds_l_probs.append(local_imp_concepts_probability(concept_dist,image_drift_imp_l,num=2,labels=localizer_bin_preds))\n",
    "    three_local_preds_l_probs.append(local_imp_concepts_probability(concept_dist,image_drift_imp_l,num=3,labels=localizer_bin_preds))\n",
    "\n",
    "    reconstructed_single_concept = reconstruct_inputs(X_test_clean, image_drift_imp_l, drift_basis, num_concepts=1)\n",
    "    localizer_preds = localizer_model.l_predict(reconstructed_single_concept)\n",
    "    reconstructed_single_concepts.append(accuracy_score(localizer_preds, y_test))\n",
    "    reconstructed_single_concepts_preds.append(accuracy_score(localizer_preds, localizer_bin_preds))\n",
    "\n",
    "\n",
    "    reconstructed_2_concept = reconstruct_inputs(X_test_clean, image_drift_imp_l, drift_basis, num_concepts=2)\n",
    "    localizer_preds = localizer_model.l_predict(reconstructed_2_concept)\n",
    "    reconstructed_2_concepts.append(accuracy_score(localizer_preds, y_test))\n",
    "    reconstructed_2_concepts_preds.append(accuracy_score(localizer_preds, localizer_bin_preds))\n",
    "    \n",
    "    reconstructed_3_concept = reconstruct_inputs(X_test_clean, image_drift_imp_l, drift_basis, num_concepts=3)\n",
    "    localizer_preds = localizer_model.l_predict(reconstructed_3_concept)\n",
    "    reconstructed_3_concepts.append(accuracy_score(localizer_preds, y_test))\n",
    "    reconstructed_3_concepts_preds.append(accuracy_score(localizer_preds, localizer_bin_preds))\n",
    "\n",
    "\n",
    "    reconstructed_all_concept = reconstruct_inputs(X_test_clean, image_drift_imp_l, drift_basis, num_concepts=21)\n",
    "    localizer_preds = localizer_model.l_predict(reconstructed_all_concept)\n",
    "    reconstructed_all_concepts.append(accuracy_score(localizer_preds, y_test))\n",
    "    reconstructed_all_concepts_preds.append(accuracy_score(localizer_preds, localizer_bin_preds))\n",
    "\n",
    "    print(\"Run:\",j)\n",
    "    \n",
    "    \n",
    "\n",
    "    "
   ]
  },
  {
   "cell_type": "code",
   "execution_count": 4,
   "id": "db9ccc4d-da18-42b8-855c-dfdc94910908",
   "metadata": {},
   "outputs": [],
   "source": [
    "import csv\n",
    "\n",
    "\n",
    "\n",
    "methods = [ drift_localizer,\n",
    "            one_local_one_global_l,\n",
    "            one_local_l,\n",
    "            two_local_l,\n",
    "            three_local_l,\n",
    "            one_local_l_probs,\n",
    "            two_local_l_probs,\n",
    "            three_local_l_probs,\n",
    "        \n",
    "            one_global_l,\n",
    "            two_global_l,\n",
    "            three_global_l,\n",
    "       \n",
    "            one_local_one_global_preds_l,\n",
    "            one_local_preds_l,\n",
    "            two_local_preds_l,\n",
    "            three_local_preds_l,\n",
    "           one_local_preds_l_probs,\n",
    "            two_local_preds_l_probs,\n",
    "            three_local_preds_l_probs,\n",
    "           \n",
    "            one_global_preds_l,\n",
    "            two_global_preds_l,\n",
    "            three_global_preds_l,\n",
    "\n",
    "           reconstructed_single_concepts,\n",
    "reconstructed_single_concepts_preds,\n",
    "reconstructed_2_concepts,\n",
    "reconstructed_2_concepts_preds,\n",
    "reconstructed_3_concepts,\n",
    "reconstructed_3_concepts_preds,\n",
    "reconstructed_all_concepts,\n",
    "reconstructed_all_concepts_preds,\n",
    "           \n",
    "        \n",
    "            label_maps,\n",
    "            drift_ratios]\n",
    "\n",
    "method_names = [ \"drift_localizer\",            \n",
    "            \"one_local_one_global_l\",\n",
    "            \"one_local_l\",\n",
    "            \"two_local_l\",\n",
    "            \"three_local_l\",\n",
    "                \"one_local_l_probs\",\n",
    "            \"two_local_l_probs\",\n",
    "            \"three_local_l_probs\",\n",
    "            \n",
    "            \"one_global_l\",\n",
    "            \"two_global_l\",\n",
    "            \"three_global_l\",\n",
    "        \n",
    "            \"one_local_one_global_preds_l\",\n",
    "            \"one_local_preds_l\",\n",
    "            \"two_local_preds_l\",\n",
    "            \"three_local_preds_l\",\n",
    "            \"one_local_preds_l_probs\",\n",
    "            \"two_local_preds_l_probs\",\n",
    "            \"three_local_preds_l_probs\",\n",
    "    \n",
    "            \"one_global_preds_l\",\n",
    "            \"two_global_preds_l\",\n",
    "            \"three_global_preds_l\",\n",
    "                \"reconstructed_single_concepts\",\n",
    "            \"reconstructed_single_concepts_preds\",\n",
    "            \"reconstructed_2_concepts\",\n",
    "            \"reconstructed_2_concepts_preds\",\n",
    "            \"reconstructed_3_concepts\",\n",
    "            \"reconstructed_3_concepts_preds\",\n",
    "            \"reconstructed_all_concepts\",\n",
    "            \"reconstructed_all_concepts_preds\",\n",
    "               \"label_maps\",\n",
    "               \"drift_ratios\"]\n",
    "\n",
    "# Write to CSV\n",
    "with open('paper_experiment_reproduced.csv', 'w', newline='') as file:\n",
    "    writer = csv.writer(file)\n",
    "    writer.writerow(['Method'] + [f'Run_{i+1}' for i in range(50)])  # Header row\n",
    "    for method, accuracies in zip(method_names, methods):\n",
    "        writer.writerow([method] + accuracies)\n"
   ]
  },
  {
   "cell_type": "code",
   "execution_count": 1,
   "id": "8f40d7e4-a4e1-4b85-86f1-94bb4de964a7",
   "metadata": {},
   "outputs": [
    {
     "name": "stdout",
     "output_type": "stream",
     "text": [
      "{'drift_localizer': (0.7901333333333332, 0.07494282264944833), 'one_local_one_global_l': (0.7602666666666668, 0.06827343716426046), 'one_local_l': (0.7736000000000002, 0.06962707008692015), 'two_local_l': (0.7649333333333334, 0.06793212298561949), 'three_local_l': (0.7399999999999999, 0.07415299499458311), 'one_local_l_probs': (0.7716000000000001, 0.06690371190499574), 'two_local_l_probs': (0.7633333333333334, 0.06457037504408143), 'three_local_l_probs': (0.7450666666666667, 0.06589634958697552), 'one_global_l': (0.6362666666666668, 0.1081082584983939), 'two_global_l': (0.7154666666666668, 0.09329942241097865), 'three_global_l': (0.7382666666666668, 0.09535719980974461), 'one_local_one_global_preds_l': (0.8269333333333333, 0.0784058954699482), 'one_local_preds_l': (0.8445333333333335, 0.07685414757838382), 'two_local_preds_l': (0.8369333333333333, 0.07423937260271293), 'three_local_preds_l': (0.8064, 0.08811063752149592), 'one_local_preds_l_probs': (0.8483999999999999, 0.07493772229139489), 'two_local_preds_l_probs': (0.8361333333333333, 0.06752895675190015), 'three_local_preds_l_probs': (0.8168, 0.06829010014473384), 'one_global_preds_l': (0.6874666666666667, 0.12246098698497139), 'two_global_preds_l': (0.7792, 0.09796725076382526), 'three_global_preds_l': (0.8092, 0.09707628157508118), 'reconstructed_single_concepts': (0.7505333333333333, 0.07130641236554007), 'reconstructed_single_concepts_preds': (0.8510666666666669, 0.07209388940048171), 'reconstructed_2_concepts': (0.7678666666666668, 0.0772722747461497), 'reconstructed_2_concepts_preds': (0.8772, 0.06595742734690478), 'reconstructed_3_concepts': (0.764, 0.07469047239552488), 'reconstructed_3_concepts_preds': (0.8813333333333333, 0.06287907265360851), 'reconstructed_all_concepts': (0.7674666666666667, 0.07697202955186602), 'reconstructed_all_concepts_preds': (0.8864, 0.07505802200076063)}\n"
     ]
    }
   ],
   "source": [
    "import pandas as pd\n",
    "import numpy as np\n",
    "\n",
    "# # Load CSV\n",
    "# df = pd.read_csv('new_experiments_run6_l.csv')\n",
    "# df = df.drop(['Method', axis=1)\n",
    "\n",
    "df = pd.read_csv('paper_experiment_D2.csv')\n",
    "df = df.iloc[:29]\n",
    "\n",
    "# Calculate mean and standard deviation\n",
    "stats = {}\n",
    "for method in df['Method']:\n",
    "    accuracies = df[df['Method'] == method].drop('Method', axis=1).values.flatten().astype(float)\n",
    "    mean = np.mean(accuracies)\n",
    "    # median = np.median(accuracies)\n",
    "    std = np.std(accuracies)\n",
    "    # stats[method] = (mean, std, median)\n",
    "    stats[method] = (mean, std)\n",
    "# Example output for stats\n",
    "print(stats)"
   ]
  },
  {
   "cell_type": "code",
   "execution_count": 2,
   "id": "bf3f0526-9c58-4ae6-af73-47e042ded384",
   "metadata": {},
   "outputs": [
    {
     "name": "stdout",
     "output_type": "stream",
     "text": [
      "\n",
      "\\begin{table}[h!]\n",
      "\\centering\n",
      "\\begin{tabular}{l|c}\n",
      "\\hline\n",
      "Method & Accuracy (Mean ± Std Dev) \\\\\n",
      "\\hline\n",
      "drift_localizer & 0.790 ± 0.075 \\\\ \n",
      "one_local_one_global_l & 0.760 ± 0.068 \\\\ \n",
      "one_local_l & 0.774 ± 0.070 \\\\ \n",
      "two_local_l & 0.765 ± 0.068 \\\\ \n",
      "three_local_l & 0.740 ± 0.074 \\\\ \n",
      "one_local_l_probs & 0.772 ± 0.067 \\\\ \n",
      "two_local_l_probs & 0.763 ± 0.065 \\\\ \n",
      "three_local_l_probs & 0.745 ± 0.066 \\\\ \n",
      "one_global_l & 0.636 ± 0.108 \\\\ \n",
      "two_global_l & 0.715 ± 0.093 \\\\ \n",
      "three_global_l & 0.738 ± 0.095 \\\\ \n",
      "one_local_one_global_preds_l & 0.827 ± 0.078 \\\\ \n",
      "one_local_preds_l & 0.845 ± 0.077 \\\\ \n",
      "two_local_preds_l & 0.837 ± 0.074 \\\\ \n",
      "three_local_preds_l & 0.806 ± 0.088 \\\\ \n",
      "one_local_preds_l_probs & 0.848 ± 0.075 \\\\ \n",
      "two_local_preds_l_probs & 0.836 ± 0.068 \\\\ \n",
      "three_local_preds_l_probs & 0.817 ± 0.068 \\\\ \n",
      "one_global_preds_l & 0.687 ± 0.122 \\\\ \n",
      "two_global_preds_l & 0.779 ± 0.098 \\\\ \n",
      "three_global_preds_l & 0.809 ± 0.097 \\\\ \n",
      "reconstructed_single_concepts & 0.751 ± 0.071 \\\\ \n",
      "reconstructed_single_concepts_preds & 0.851 ± 0.072 \\\\ \n",
      "reconstructed_2_concepts & 0.768 ± 0.077 \\\\ \n",
      "reconstructed_2_concepts_preds & 0.877 ± 0.066 \\\\ \n",
      "reconstructed_3_concepts & 0.764 ± 0.075 \\\\ \n",
      "reconstructed_3_concepts_preds & 0.881 ± 0.063 \\\\ \n",
      "reconstructed_all_concepts & 0.767 ± 0.077 \\\\ \n",
      "reconstructed_all_concepts_preds & 0.886 ± 0.075 \\\\ \n",
      "\n",
      "\\hline\n",
      "\\end{tabular}\n",
      "\\caption{Accuracy of different methods}\n",
      "\\end{table}\n",
      "\n"
     ]
    }
   ],
   "source": [
    "latex_table = \"\"\"\n",
    "\\\\begin{table}[h!]\n",
    "\\\\centering\n",
    "\\\\begin{tabular}{l|c}\n",
    "\\\\hline\n",
    "Method & Accuracy (Mean ± Std Dev) \\\\\\\\\n",
    "\\\\hline\n",
    "\"\"\"\n",
    "\n",
    "for method, (mean, std) in stats.items():\n",
    "    latex_table += f\"{method} & {mean:.3f} ± {std:.3f} \\\\\\\\ \\n\"\n",
    "\n",
    "latex_table += \"\"\"\n",
    "\\\\hline\n",
    "\\\\end{tabular}\n",
    "\\\\caption{Accuracy of different methods}\n",
    "\\\\end{table}\n",
    "\"\"\"\n",
    "\n",
    "# Output the LaTeX table\n",
    "print(latex_table)\n",
    "\n",
    "##Model h tilde for paper is encompassed by \"one_local_l_probs\"\n",
    "\n",
    "## We have other models here which use more concepts for possible future work"
   ]
  },
  {
   "cell_type": "code",
   "execution_count": null,
   "id": "bfa270a0-9360-4217-9b62-50d39a50f2e6",
   "metadata": {},
   "outputs": [],
   "source": []
  }
 ],
 "metadata": {
  "kernelspec": {
   "display_name": "Python 3 (ipykernel)",
   "language": "python",
   "name": "python3"
  },
  "language_info": {
   "codemirror_mode": {
    "name": "ipython",
    "version": 3
   },
   "file_extension": ".py",
   "mimetype": "text/x-python",
   "name": "python",
   "nbconvert_exporter": "python",
   "pygments_lexer": "ipython3",
   "version": "3.10.15"
  }
 },
 "nbformat": 4,
 "nbformat_minor": 5
}
